{
 "cells": [
  {
   "cell_type": "code",
   "execution_count": 1,
   "id": "409fcda8-6344-4e2a-b79c-7c79cb3401c8",
   "metadata": {},
   "outputs": [
    {
     "name": "stdout",
     "output_type": "stream",
     "text": [
      "Started!\n"
     ]
    }
   ],
   "source": [
    "import pandas as pd\n",
    "import numpy as np\n",
    "import seaborn as sns\n",
    "\n",
    "print(\"Started!\")\n",
    "pd.set_option('display.float_format', lambda x: '%.3f' % x)\n",
    "# Try adding section and act names"
   ]
  },
  {
   "cell_type": "code",
   "execution_count": 2,
   "id": "179bb4a4-8a4c-4432-84f6-5505b8ef4d1d",
   "metadata": {},
   "outputs": [],
   "source": [
    "gender_columns = [\"female_defendant\", \"female_petitioner\", \"female_adv_def\", \"female_adv_pet\"]\n",
    "\n",
    "def gender_to_int(x):\n",
    "    return int(str(x).split()[0])\n",
    "\n",
    "def get_year_cases(year):\n",
    "    fields = [\"ddl_case_id\", \"year\", \"state_code\", \"dist_code\", \"court_no\", \"female_defendant\", \"female_petitioner\", \"female_adv_def\", \"female_adv_pet\", \"type_name\", \"purpose_name\", \"disp_name\", \"date_of_filing\", \"date_of_decision\", \"date_first_list\",\n",
    "       \"date_last_list\", \"date_next_list\"]\n",
    "    \n",
    "    cases = pd.read_csv(f\"csv/cases/cases/cases_{year}.csv\", usecols=fields) # , nrows=10000\n",
    "    \n",
    "    # normalise gender columns to ints (apparently only female_defendant col has strings, but still)\n",
    "    for gc in gender_columns:\n",
    "        cases[gc] = cases[gc].apply(gender_to_int)\n",
    "        # print(cases[gc].unique())\n",
    "\n",
    "    return cases"
   ]
  },
  {
   "cell_type": "code",
   "execution_count": 3,
   "id": "a8de2a2a-fb8c-4183-9de7-80d2e1ed482d",
   "metadata": {},
   "outputs": [],
   "source": [
    "# might wanna add: , 'bail granted', 'bail refused', 'bail rejected'\n",
    "# 0: petitioner; 1: defendant\n",
    "good_disp = {\"allowed\": 0, \"dismissed\": 1, \"convicted\": 0, \"plea bargaining\": 0, \"reject\": 1, \"plead guilty\": 0, \"withdrawn\": 1, \"acquitted\": 1, \"confession\": 0, \"settled\": 1}\n",
    "\n",
    "def check_defendant_won(x):\n",
    "    return good_disp[x]\n",
    "\n",
    "def get_good_disp(cases):\n",
    "    cases = cases.loc[cases.disp_name.isin(list(good_disp.keys()))] # select some cute dispositions\n",
    "    cases[\"defendant_won\"] = cases.disp_name.apply(check_defendant_won)\n",
    "    return cases"
   ]
  },
  {
   "cell_type": "code",
   "execution_count": 4,
   "id": "1cb516cb-239c-40a9-bcb6-0ab1cb922e6a",
   "metadata": {},
   "outputs": [],
   "source": [
    "date_columns = [\"date_of_filing\", \"date_of_decision\", \"date_of_decision\", \"date_first_list\", \"date_next_list\", \"date_last_list\"]\n",
    "# \n",
    "\n",
    "def process_dates_and_filter(cases):\n",
    "    # print(\"- Undecided cases:\", cases.date_of_decision.isna().sum())\n",
    "    for date_col in date_columns:\n",
    "        cases[date_col] = pd.to_datetime(cases[date_col], errors=\"coerce\")\n",
    "\n",
    "    cases = cases.dropna(subset=date_columns)\n",
    "    cases.loc[:,\"duration\"] = (cases.date_of_decision - cases.date_of_filing).dt.days + 1\n",
    "    cases[\"first_list_gap\"] = (cases.date_first_list - cases.date_of_filing).dt.days + 1\n",
    "    cases[\"next_list_gap\"] = (cases.date_next_list - cases.date_first_list).dt.days + 1\n",
    "    cases[\"last_list_gap\"] = (cases.date_last_list - cases.date_next_list).dt.days + 1\n",
    "    \n",
    "    cases = cases.loc[(cases.duration > 0) & (cases.date_of_decision <= pd.to_datetime(\"2022-12-31\"))]\n",
    "    \n",
    "    # split date columns\n",
    "    for dc in date_columns:\n",
    "        cases[f\"{dc}_year\"] = cases[dc].dt.year\n",
    "        cases[f\"{dc}_month\"] = cases[dc].dt.month\n",
    "        cases[f\"{dc}_date\"] = cases[dc].dt.day\n",
    "    \n",
    "    cases = cases.drop(columns=date_columns)\n",
    "    return cases"
   ]
  },
  {
   "cell_type": "code",
   "execution_count": 5,
   "id": "416dd5e2-d3ba-4597-96af-33f7ee2171d5",
   "metadata": {},
   "outputs": [],
   "source": [
    "judge_case_key = pd.read_csv(\"csv/keys/keys/judge_case_merge_key.csv\")\n",
    "\n",
    "def merge_judge_id(cases):\n",
    "    return pd.merge(cases, judge_case_key, on=\"ddl_case_id\", how=\"left\")"
   ]
  },
  {
   "cell_type": "code",
   "execution_count": 6,
   "id": "0bd20369-7c54-4c34-b8f1-b73696ff40d1",
   "metadata": {},
   "outputs": [],
   "source": [
    "disp_key = pd.read_csv(\"csv/keys/keys/disp_name_key.csv\")\n",
    "\n",
    "def merge_disp_name(cases, year):\n",
    "    cases = pd.merge(cases, disp_key[[\"year\", \"disp_name\", \"disp_name_s\"]], on=[\"year\", \"disp_name\"], how=\"left\")\n",
    "    cases.disp_name = cases.disp_name_s\n",
    "    return cases.drop(columns=\"disp_name_s\")"
   ]
  },
  {
   "cell_type": "code",
   "execution_count": 7,
   "id": "16e5e708-dc78-4908-b924-1f682d4f5206",
   "metadata": {
    "tags": []
   },
   "outputs": [],
   "source": [
    "def add_population_data(cases):\n",
    "    # add population data into state_key\n",
    "    # the state_key has state_code, so then merge with cases\n",
    "    state_key = pd.read_csv(\"csv/keys/keys/cases_state_key.csv\")\n",
    "    state_key[\"population\"] = 0\n",
    "    \n",
    "    population = {\n",
    "        \"Uttar Pradesh\": 199812341,\n",
    "        \"Maharashtra\": 112374333,\n",
    "        \"Bihar\": 104099452,\n",
    "        \"West Bengal\": 91276115,\n",
    "        \"Madhya Pradesh\": 72626809,\n",
    "        \"Tamil Nadu\": 72147030,\n",
    "        \"Rajasthan\": 68548437,\n",
    "        \"Karnataka\": 61095297,\n",
    "        \"Gujarat\": 60439692,\n",
    "        \"Andhra Pradesh\": 49577103,\n",
    "        \"Orissa\": 41974219,\n",
    "        \"Telangana\": 35003674,\n",
    "        \"Kerala\": 33406061,\n",
    "        \"Jharkhand\": 32988134,\n",
    "        \"Assam\": 31205576,\n",
    "        \"Punjab\": 27743338,\n",
    "        \"Chhattisgarh\": 25545198,\n",
    "        \"Haryana\": 25353081,\n",
    "        \"Jammu and Kashmir\": 12541302,\n",
    "        \"Ladakh\": 12541302,\n",
    "        \"Uttarakhand\": 10086292,\n",
    "        \"Himachal Pradesh\": 6864602,\n",
    "        \"Tripura\": 3673917,\n",
    "        \"Meghalaya\": 2966889,\n",
    "        \"Manipur\": 2721756,\n",
    "        \"Nagaland\": 1978502,\n",
    "        \"Goa\": 1458545,\n",
    "        \"Arunachal Pradesh\": 1383727,\n",
    "        \"Mizoram\": 1091014,\n",
    "        \"Sikkim\": 607688,\n",
    "        \"Delhi\": 16753235,\n",
    "        \"Puducherry\": 1244464,\n",
    "        \"Chandigarh\": 1054686,\n",
    "        \"Andaman and Nicobar Islands\": 380581,\n",
    "        \"DNH at Silvasa\": 342853,\n",
    "        \"Diu and Daman\": 243247,\n",
    "        \"Lakshadweep\": 64429\n",
    "    }\n",
    "    \n",
    "    for state_name in state_key.state_name.unique():\n",
    "        state_key.loc[state_key.state_name == state_name, \"population\"] = population[state_name]\n",
    "    \n",
    "    cases = pd.merge(cases, state_key[[\"year\", \"state_code\", \"population\"]], on=[\"year\", \"state_code\"], how=\"left\")\n",
    "    \n",
    "    return cases"
   ]
  },
  {
   "cell_type": "code",
   "execution_count": 8,
   "id": "c436f7ac-5a91-431e-933b-b0ca2745f5eb",
   "metadata": {},
   "outputs": [],
   "source": [
    "def add_judge_info_from_id(cases):\n",
    "    # get judges and filter for judges with known genders\n",
    "    judges = pd.read_csv(\"csv/judges_clean.csv\")\n",
    "    judges = judges[judges.female_judge.notna()]\n",
    "    judges.female_judge = judges.female_judge.apply(gender_to_int)\n",
    "    # judges = judges.loc[(judges.female_judge == 0) | (judges.female_judge == 1)]\n",
    "    \n",
    "    date_columns = [\"start_date\", \"end_date\"]\n",
    "    for dc in date_columns:\n",
    "        judges[dc] = pd.to_datetime(judges[dc], errors=\"coerce\")\n",
    "    \n",
    "    judges[\"judge_duration\"] = (judges.end_date - judges.start_date).dt.days + 1\n",
    "    judges = judges[(judges.judge_duration >= 1) & (judges.start_date <= pd.to_datetime(\"01/01/2017\"))]\n",
    "    \n",
    "    \n",
    "    # merge info of filing and decision judges with cases\n",
    "    # handle decision judge\n",
    "    cases = pd.merge(cases, judges[[\"ddl_judge_id\", \"female_judge\", \"judge_duration\"]], left_on=\"ddl_decision_judge_id\", right_on=\"ddl_judge_id\", how=\"left\")\n",
    "    cases[\"female_decision_judge\"] = cases.female_judge\n",
    "    cases[\"decision_judge_duration\"] = cases.judge_duration\n",
    "    \n",
    "    cases = cases.drop(columns=[\"female_judge\", \"judge_duration\", \"ddl_judge_id\"])\n",
    "    \n",
    "    # handle filing judge\n",
    "    cases = pd.merge(cases, judges[[\"ddl_judge_id\", \"female_judge\", \"judge_duration\"]], left_on=\"ddl_filing_judge_id\", right_on=\"ddl_judge_id\", how=\"left\")\n",
    "    cases[\"female_filing_judge\"] = cases.female_judge\n",
    "    cases[\"filing_judge_duration\"] = cases.judge_duration\n",
    "    \n",
    "    cases = cases.drop(columns=[\"female_judge\", \"judge_duration\", \"ddl_judge_id\"])\n",
    "    \n",
    "    return cases"
   ]
  },
  {
   "cell_type": "code",
   "execution_count": 9,
   "id": "3b3e8624-e693-412f-ad1c-2dbd1e239f42",
   "metadata": {},
   "outputs": [],
   "source": [
    "year = 2015"
   ]
  },
  {
   "cell_type": "code",
   "execution_count": 10,
   "id": "425ab295-ee63-4e59-9549-d15acc4b310a",
   "metadata": {
    "tags": []
   },
   "outputs": [],
   "source": [
    "# cases = get_year_cases(year)\n",
    "# print(\"Fetched cases\")\n",
    "# # print(cases.columns)\n",
    "\n",
    "# cases = process_dates_and_filter(cases)\n",
    "# print(\"Processed dates\")\n",
    "# # print(cases.columns)\n",
    "\n",
    "# cases = merge_disp_name(cases, year)\n",
    "# print(\"Merged disposition names\")\n",
    "# # print(cases.columns)\n",
    "\n",
    "# cases = get_good_disp(cases)\n",
    "# print(\"Filtered for relevant dispositions\")\n",
    "# # print(cases.columns)\n",
    "\n",
    "# cases = add_population_data(cases)\n",
    "# print(\"Added population data of states\")\n",
    "# # print(cases.columns)\n",
    "\n",
    "# cases = merge_judge_id(cases)\n",
    "# print(\"Merged judge data\")\n",
    "# # print(cases.columns)\n",
    "\n",
    "# # cases = cases.dropna(subset=[\"ddl_filing_judge_id\", \"ddl_decision_judge_id\"])\n",
    "# # print(\"Dropped cases with missing judge info\")\n",
    "# # print(cases.columns)\n",
    "\n",
    "# cases = add_judge_info_from_id(cases)\n",
    "# print(\"Added judge information\")\n",
    "# # print(cases.columns)\n",
    "\n",
    "# cases.ddl_decision_judge_id = cases.ddl_decision_judge_id.fillna(-1)\n",
    "# cases.ddl_filing_judge_id = cases.ddl_filing_judge_id.fillna(-1)\n",
    "\n",
    "# print(\"Left with\", cases.shape[0], \"cases\")\n",
    "\n",
    "# cases.to_csv(\"processed_defendant_win_classification_cases.csv\", index=False)\n",
    "# print(\"Saved to CSV\")"
   ]
  },
  {
   "cell_type": "code",
   "execution_count": 11,
   "id": "3a8cf710-f72e-44ac-a949-c60828d4bef8",
   "metadata": {},
   "outputs": [
    {
     "name": "stdout",
     "output_type": "stream",
     "text": [
      "Read CSV\n"
     ]
    }
   ],
   "source": [
    "cases = pd.read_csv(\"processed_defendant_win_classification_cases.csv\", nrows=800000) # nrows=1000000\n",
    "        \n",
    "print(\"Read CSV\")"
   ]
  },
  {
   "cell_type": "code",
   "execution_count": 12,
   "id": "9a6374dc-2de1-466f-883c-291a10f817eb",
   "metadata": {
    "tags": []
   },
   "outputs": [
    {
     "data": {
      "text/html": [
       "<div>\n",
       "<style scoped>\n",
       "    .dataframe tbody tr th:only-of-type {\n",
       "        vertical-align: middle;\n",
       "    }\n",
       "\n",
       "    .dataframe tbody tr th {\n",
       "        vertical-align: top;\n",
       "    }\n",
       "\n",
       "    .dataframe thead th {\n",
       "        text-align: right;\n",
       "    }\n",
       "</style>\n",
       "<table border=\"1\" class=\"dataframe\">\n",
       "  <thead>\n",
       "    <tr style=\"text-align: right;\">\n",
       "      <th></th>\n",
       "      <th>ddl_case_id</th>\n",
       "      <th>year</th>\n",
       "      <th>state_code</th>\n",
       "      <th>dist_code</th>\n",
       "      <th>court_no</th>\n",
       "      <th>female_defendant</th>\n",
       "      <th>female_petitioner</th>\n",
       "      <th>female_adv_def</th>\n",
       "      <th>female_adv_pet</th>\n",
       "      <th>type_name</th>\n",
       "      <th>...</th>\n",
       "      <th>date_last_list_month</th>\n",
       "      <th>date_last_list_date</th>\n",
       "      <th>defendant_won</th>\n",
       "      <th>population</th>\n",
       "      <th>ddl_filing_judge_id</th>\n",
       "      <th>ddl_decision_judge_id</th>\n",
       "      <th>female_decision_judge</th>\n",
       "      <th>decision_judge_duration</th>\n",
       "      <th>female_filing_judge</th>\n",
       "      <th>filing_judge_duration</th>\n",
       "    </tr>\n",
       "  </thead>\n",
       "  <tbody>\n",
       "    <tr>\n",
       "      <th>0</th>\n",
       "      <td>01-01-01-201908000042015</td>\n",
       "      <td>2015</td>\n",
       "      <td>1</td>\n",
       "      <td>1</td>\n",
       "      <td>1</td>\n",
       "      <td>0</td>\n",
       "      <td>0</td>\n",
       "      <td>-9999</td>\n",
       "      <td>0</td>\n",
       "      <td>1978.000</td>\n",
       "      <td>...</td>\n",
       "      <td>3</td>\n",
       "      <td>21</td>\n",
       "      <td>1</td>\n",
       "      <td>112374333</td>\n",
       "      <td>-1.000</td>\n",
       "      <td>-1.000</td>\n",
       "      <td>NaN</td>\n",
       "      <td>NaN</td>\n",
       "      <td>NaN</td>\n",
       "      <td>NaN</td>\n",
       "    </tr>\n",
       "    <tr>\n",
       "      <th>1</th>\n",
       "      <td>01-01-01-201908000062015</td>\n",
       "      <td>2015</td>\n",
       "      <td>1</td>\n",
       "      <td>1</td>\n",
       "      <td>1</td>\n",
       "      <td>-9998</td>\n",
       "      <td>0</td>\n",
       "      <td>-9999</td>\n",
       "      <td>0</td>\n",
       "      <td>1978.000</td>\n",
       "      <td>...</td>\n",
       "      <td>5</td>\n",
       "      <td>28</td>\n",
       "      <td>1</td>\n",
       "      <td>112374333</td>\n",
       "      <td>-1.000</td>\n",
       "      <td>-1.000</td>\n",
       "      <td>NaN</td>\n",
       "      <td>NaN</td>\n",
       "      <td>NaN</td>\n",
       "      <td>NaN</td>\n",
       "    </tr>\n",
       "    <tr>\n",
       "      <th>2</th>\n",
       "      <td>01-01-01-201908000132015</td>\n",
       "      <td>2015</td>\n",
       "      <td>1</td>\n",
       "      <td>1</td>\n",
       "      <td>1</td>\n",
       "      <td>0</td>\n",
       "      <td>1</td>\n",
       "      <td>-9999</td>\n",
       "      <td>-9998</td>\n",
       "      <td>1978.000</td>\n",
       "      <td>...</td>\n",
       "      <td>8</td>\n",
       "      <td>16</td>\n",
       "      <td>1</td>\n",
       "      <td>112374333</td>\n",
       "      <td>-1.000</td>\n",
       "      <td>-1.000</td>\n",
       "      <td>NaN</td>\n",
       "      <td>NaN</td>\n",
       "      <td>NaN</td>\n",
       "      <td>NaN</td>\n",
       "    </tr>\n",
       "    <tr>\n",
       "      <th>3</th>\n",
       "      <td>01-01-01-201908000222015</td>\n",
       "      <td>2015</td>\n",
       "      <td>1</td>\n",
       "      <td>1</td>\n",
       "      <td>1</td>\n",
       "      <td>-9998</td>\n",
       "      <td>0</td>\n",
       "      <td>-9999</td>\n",
       "      <td>0</td>\n",
       "      <td>1978.000</td>\n",
       "      <td>...</td>\n",
       "      <td>3</td>\n",
       "      <td>26</td>\n",
       "      <td>1</td>\n",
       "      <td>112374333</td>\n",
       "      <td>3.000</td>\n",
       "      <td>3.000</td>\n",
       "      <td>0.000</td>\n",
       "      <td>831.000</td>\n",
       "      <td>0.000</td>\n",
       "      <td>831.000</td>\n",
       "    </tr>\n",
       "    <tr>\n",
       "      <th>4</th>\n",
       "      <td>01-01-01-201908000372015</td>\n",
       "      <td>2015</td>\n",
       "      <td>1</td>\n",
       "      <td>1</td>\n",
       "      <td>1</td>\n",
       "      <td>0</td>\n",
       "      <td>1</td>\n",
       "      <td>-9999</td>\n",
       "      <td>0</td>\n",
       "      <td>1978.000</td>\n",
       "      <td>...</td>\n",
       "      <td>3</td>\n",
       "      <td>19</td>\n",
       "      <td>1</td>\n",
       "      <td>112374333</td>\n",
       "      <td>3.000</td>\n",
       "      <td>3.000</td>\n",
       "      <td>0.000</td>\n",
       "      <td>831.000</td>\n",
       "      <td>0.000</td>\n",
       "      <td>831.000</td>\n",
       "    </tr>\n",
       "  </tbody>\n",
       "</table>\n",
       "<p>5 rows × 39 columns</p>\n",
       "</div>"
      ],
      "text/plain": [
       "                ddl_case_id  year  state_code  dist_code  court_no  \\\n",
       "0  01-01-01-201908000042015  2015           1          1         1   \n",
       "1  01-01-01-201908000062015  2015           1          1         1   \n",
       "2  01-01-01-201908000132015  2015           1          1         1   \n",
       "3  01-01-01-201908000222015  2015           1          1         1   \n",
       "4  01-01-01-201908000372015  2015           1          1         1   \n",
       "\n",
       "   female_defendant  female_petitioner  female_adv_def  female_adv_pet  \\\n",
       "0                 0                  0           -9999               0   \n",
       "1             -9998                  0           -9999               0   \n",
       "2                 0                  1           -9999           -9998   \n",
       "3             -9998                  0           -9999               0   \n",
       "4                 0                  1           -9999               0   \n",
       "\n",
       "   type_name  ...  date_last_list_month date_last_list_date  defendant_won  \\\n",
       "0   1978.000  ...                     3                  21              1   \n",
       "1   1978.000  ...                     5                  28              1   \n",
       "2   1978.000  ...                     8                  16              1   \n",
       "3   1978.000  ...                     3                  26              1   \n",
       "4   1978.000  ...                     3                  19              1   \n",
       "\n",
       "   population  ddl_filing_judge_id  ddl_decision_judge_id  \\\n",
       "0   112374333               -1.000                 -1.000   \n",
       "1   112374333               -1.000                 -1.000   \n",
       "2   112374333               -1.000                 -1.000   \n",
       "3   112374333                3.000                  3.000   \n",
       "4   112374333                3.000                  3.000   \n",
       "\n",
       "   female_decision_judge  decision_judge_duration  female_filing_judge  \\\n",
       "0                    NaN                      NaN                  NaN   \n",
       "1                    NaN                      NaN                  NaN   \n",
       "2                    NaN                      NaN                  NaN   \n",
       "3                  0.000                  831.000                0.000   \n",
       "4                  0.000                  831.000                0.000   \n",
       "\n",
       "   filing_judge_duration  \n",
       "0                    NaN  \n",
       "1                    NaN  \n",
       "2                    NaN  \n",
       "3                831.000  \n",
       "4                831.000  \n",
       "\n",
       "[5 rows x 39 columns]"
      ]
     },
     "execution_count": 12,
     "metadata": {},
     "output_type": "execute_result"
    }
   ],
   "source": [
    "cases.head()"
   ]
  },
  {
   "cell_type": "code",
   "execution_count": 13,
   "id": "917dab88-bd3c-4a4a-9310-0fb890676f31",
   "metadata": {},
   "outputs": [
    {
     "data": {
      "text/plain": [
       "1    404626\n",
       "0    395374\n",
       "Name: defendant_won, dtype: int64"
      ]
     },
     "execution_count": 13,
     "metadata": {},
     "output_type": "execute_result"
    }
   ],
   "source": [
    "cases.defendant_won.value_counts()"
   ]
  },
  {
   "cell_type": "code",
   "execution_count": 14,
   "id": "23d6909d-53f1-4a9d-94b4-f47891f61c99",
   "metadata": {},
   "outputs": [],
   "source": [
    "# cases[[\"date_first_list\", \"date_first_list_year\", \"date_first_list_month\", \"date_first_list_date\"]].head()"
   ]
  },
  {
   "cell_type": "code",
   "execution_count": 15,
   "id": "617fc26d-1d2c-49e2-82c9-a85b7a4724cd",
   "metadata": {},
   "outputs": [],
   "source": [
    "from sklearn.model_selection import train_test_split\n",
    "from sklearn.utils import shuffle\n",
    "\n",
    "cases = cases.drop(columns=[\"ddl_case_id\", \"year\"])\n",
    "\n",
    "for col in cases.columns:\n",
    "    cases[col] = cases[col].fillna(-1)\n",
    "\n",
    "# cases.type_name = cases.type_name.fillna(-1)\n",
    "# cases.purpose_name = cases.purpose_name.fillna(-1)\n",
    "# cases = pd.get_dummies(cases, columns=[\"type_name\"], drop_first=True)\n",
    "cases = pd.get_dummies(cases, columns=[\"state_code\"], drop_first=True)\n",
    "cases = pd.get_dummies(cases, columns=gender_columns, drop_first=True)\n",
    "\n",
    "cases = cases.drop(columns=['date_of_filing_month',\n",
    "       'date_of_filing_date',\n",
    "       'date_of_decision_month', 'date_of_decision_date',\n",
    "       'date_first_list_month', 'date_first_list_date',\n",
    "       'date_next_list_month', 'date_next_list_date', 'date_last_list_month', 'date_last_list_date'] + ['date_of_filing_year', 'date_of_decision_year', 'date_first_list_year',\n",
    "       'date_next_list_year', 'date_last_list_year', 'population',\n",
    "       'ddl_filing_judge_id', 'ddl_decision_judge_id'])\n",
    "# 'decision_judge_duration', 'filing_judge_duration'\n",
    "\n",
    "oneHot = ['female_decision_judge', 'female_filing_judge']\n",
    "cases = pd.get_dummies(cases, columns=oneHot, drop_first=True)\n",
    "\n",
    "cases = shuffle(cases, random_state=42)"
   ]
  },
  {
   "cell_type": "code",
   "execution_count": 16,
   "id": "ca8fff3d-cde6-403c-acef-695b66a27faa",
   "metadata": {},
   "outputs": [],
   "source": [
    "train_data, test_data = train_test_split(cases, test_size=0.2, random_state=42)\n",
    "cases = cases.iloc[0:0]"
   ]
  },
  {
   "cell_type": "code",
   "execution_count": 17,
   "id": "dbaa2dd2-6333-4961-9d14-038be80d05b2",
   "metadata": {},
   "outputs": [],
   "source": [
    "def split_X_Y(data):\n",
    "    X = data.copy()\n",
    "    X = X.drop(columns=[\"defendant_won\", \"disp_name\"])\n",
    "    Y = data.defendant_won\n",
    "    \n",
    "    return (X, Y)"
   ]
  },
  {
   "cell_type": "code",
   "execution_count": 18,
   "id": "2e4306e5-0e81-48be-b12c-50ccf2e52577",
   "metadata": {},
   "outputs": [],
   "source": [
    "X_train, Y_train = split_X_Y(train_data)\n",
    "train_data = train_data.iloc[0:0]\n",
    "X_test, Y_test = split_X_Y(test_data)\n",
    "test_data = test_data.iloc[0:0]"
   ]
  },
  {
   "cell_type": "code",
   "execution_count": 19,
   "id": "5b35f193-ce37-4dc1-b82a-546c8628a02e",
   "metadata": {},
   "outputs": [],
   "source": [
    "# for col in X_train.columns:\n",
    "#     print(col, \"------------------------\")\n",
    "#     print(X_train[col].isna().sum())"
   ]
  },
  {
   "cell_type": "markdown",
   "id": "66162c6b-01b2-4600-bbac-48af92a909dc",
   "metadata": {},
   "source": [
    "## Trying a simple logistic regression"
   ]
  },
  {
   "cell_type": "code",
   "execution_count": 20,
   "id": "d34764b8-47b8-4d0f-b280-41f3be6ecd8f",
   "metadata": {},
   "outputs": [],
   "source": [
    "from sklearn.preprocessing import StandardScaler\n",
    "\n",
    "scaler = StandardScaler().fit(X_train)\n",
    "X_train, X_test = scaler.transform(X_train), scaler.transform(X_test)"
   ]
  },
  {
   "cell_type": "code",
   "execution_count": 21,
   "id": "d56521f0-377e-40c5-bcaa-6d55b008d50b",
   "metadata": {},
   "outputs": [],
   "source": [
    "from sklearn.linear_model import LogisticRegression\n",
    "from sklearn.tree import DecisionTreeClassifier\n",
    "from sklearn.ensemble import RandomForestClassifier\n",
    "from sklearn.svm import SVC\n",
    "from sklearn.ensemble import VotingClassifier\n",
    "\n",
    "\n",
    "log_clf = LogisticRegression(random_state=42, max_iter=1200000)\n",
    "rnd_clf = RandomForestClassifier(max_depth=4, random_state=42)\n",
    "svm_clf = SVC(random_state=42)\n",
    "dt_clf = DecisionTreeClassifier(random_state=42)\n",
    "\n",
    "voting_clf = VotingClassifier(\n",
    "    estimators=[('lr', log_clf), ('rf', rnd_clf), ('dt', dt_clf)], \n",
    "    voting='hard')"
   ]
  },
  {
   "cell_type": "code",
   "execution_count": 34,
   "id": "d2c96e5d-aa0c-42b8-bd4b-dae2c7a2efd1",
   "metadata": {},
   "outputs": [
    {
     "name": "stdout",
     "output_type": "stream",
     "text": [
      "-------------\n",
      "VotingClassifier\n",
      "Train Accuracy: 0.8650734375\n",
      "Test Accuracy: 0.84421875\n",
      "Test confusion matrix:\n",
      " [[62479 16761]\n",
      " [ 8164 72596]]\n",
      "-------------\n",
      "LogisticRegression\n",
      "Train Accuracy: 0.784628125\n",
      "Test Accuracy: 0.78459375\n",
      "Test confusion matrix:\n",
      " [[61944 17296]\n",
      " [17169 63591]]\n",
      "-------------\n",
      "RandomForestClassifier\n",
      "Train Accuracy: 0.8153734375\n",
      "Test Accuracy: 0.8155125\n",
      "Test confusion matrix:\n",
      " [[57195 22045]\n",
      " [ 7473 73287]]\n",
      "-------------\n",
      "DecisionTreeClassifier\n",
      "Train Accuracy: 0.995490625\n",
      "Test Accuracy: 0.8814125\n",
      "Test confusion matrix:\n",
      " [[70208  9032]\n",
      " [ 9942 70818]]\n"
     ]
    }
   ],
   "source": [
    "from sklearn.metrics import accuracy_score\n",
    "from sklearn.metrics import confusion_matrix\n",
    "\n",
    "for clf in (voting_clf, log_clf, rnd_clf, dt_clf):\n",
    "    # ct = int(X_train.shape[0] * 0.01)\n",
    "    print(\"-------------\")\n",
    "    print(clf.__class__.__name__)\n",
    "    clf.fit(X_train, Y_train)\n",
    "    Y_train_pred, Y_test_pred = clf.predict(X_train), clf.predict(X_test)\n",
    "    print(\"Train Accuracy:\", accuracy_score(Y_train, Y_train_pred))\n",
    "    print(\"Test Accuracy:\", accuracy_score(Y_test, Y_test_pred))\n",
    "    print(\"Test confusion matrix:\\n\", confusion_matrix(Y_test, Y_test_pred))\n",
    "    "
   ]
  },
  {
   "cell_type": "code",
   "execution_count": 35,
   "id": "c18f9c3c-7aeb-4b20-b6ce-859205c66a87",
   "metadata": {},
   "outputs": [],
   "source": [
    "# X_train.columns"
   ]
  },
  {
   "cell_type": "code",
   "execution_count": 36,
   "id": "e2569c5c-0d35-4c36-a02f-106847f593ba",
   "metadata": {},
   "outputs": [
    {
     "data": {
      "text/html": [
       "<div>\n",
       "<style scoped>\n",
       "    .dataframe tbody tr th:only-of-type {\n",
       "        vertical-align: middle;\n",
       "    }\n",
       "\n",
       "    .dataframe tbody tr th {\n",
       "        vertical-align: top;\n",
       "    }\n",
       "\n",
       "    .dataframe thead th {\n",
       "        text-align: right;\n",
       "    }\n",
       "</style>\n",
       "<table border=\"1\" class=\"dataframe\">\n",
       "  <thead>\n",
       "    <tr style=\"text-align: right;\">\n",
       "      <th></th>\n",
       "      <th>ddl_case_id</th>\n",
       "      <th>ddl_filing_judge_id</th>\n",
       "      <th>ddl_decision_judge_id</th>\n",
       "    </tr>\n",
       "  </thead>\n",
       "  <tbody>\n",
       "    <tr>\n",
       "      <th>0</th>\n",
       "      <td>01-01-01-201900000022018</td>\n",
       "      <td>5.000</td>\n",
       "      <td>5.000</td>\n",
       "    </tr>\n",
       "    <tr>\n",
       "      <th>1</th>\n",
       "      <td>01-01-01-201900000032017</td>\n",
       "      <td>5.000</td>\n",
       "      <td>5.000</td>\n",
       "    </tr>\n",
       "    <tr>\n",
       "      <th>2</th>\n",
       "      <td>01-01-01-201900000032018</td>\n",
       "      <td>94.000</td>\n",
       "      <td>94.000</td>\n",
       "    </tr>\n",
       "    <tr>\n",
       "      <th>3</th>\n",
       "      <td>01-01-01-201900000042016</td>\n",
       "      <td>3.000</td>\n",
       "      <td>5.000</td>\n",
       "    </tr>\n",
       "    <tr>\n",
       "      <th>4</th>\n",
       "      <td>01-01-01-201900000042018</td>\n",
       "      <td>156.000</td>\n",
       "      <td>156.000</td>\n",
       "    </tr>\n",
       "  </tbody>\n",
       "</table>\n",
       "</div>"
      ],
      "text/plain": [
       "                ddl_case_id  ddl_filing_judge_id  ddl_decision_judge_id\n",
       "0  01-01-01-201900000022018                5.000                  5.000\n",
       "1  01-01-01-201900000032017                5.000                  5.000\n",
       "2  01-01-01-201900000032018               94.000                 94.000\n",
       "3  01-01-01-201900000042016                3.000                  5.000\n",
       "4  01-01-01-201900000042018              156.000                156.000"
      ]
     },
     "execution_count": 36,
     "metadata": {},
     "output_type": "execute_result"
    }
   ],
   "source": [
    "judge_case_key.head()"
   ]
  },
  {
   "cell_type": "code",
   "execution_count": 37,
   "id": "6d8619e9-dbbe-402a-a238-077be84685f2",
   "metadata": {},
   "outputs": [],
   "source": [
    "import tensorflow as tf\n",
    "from tensorflow import keras\n",
    "\n",
    "# model = keras.models.Sequential()\n",
    "# # model.add(keras.layers.Dense(10000, activation=\"relu\", input_shape=(X_train.shape[1],))) # , kernel_regularizer=keras.regularizers.l2(0.1)\n",
    "# # model.add(keras.layers.Dense(10000, activation=\"relu\", input_shape=(X_train.shape[1],)))\n",
    "# model.add(keras.layers.Dense(10000, activation=\"relu\", input_shape=(X_train.shape[1],)))\n",
    "# model.add(keras.layers.Dense(10000, activation=\"relu\")\n",
    "# # model.add(keras.layers.Dense(10, activation=\"relu\"))\n",
    "# # model.add(keras.layers.Dense(20, activation=\"relu\", input_shape=(X_train.shape[1],))) # , kernel_regularizer=keras.regularizers.l2(0.1)\n",
    "\n",
    "# # for i in range(30):\n",
    "#     # model.add(keras.layers.Dense(20, activation=\"relu\"))\n",
    "\n",
    "# # model.add(keras.layers.Dropout(rate=0.2))\n",
    "# # model.add(keras.layers.Dense(20, activation=\"relu\"))\n",
    "# # model.add(keras.layers.Dropout(rate=0.2))\n",
    "# # model.add(keras.layers.Dense(20, activation=\"relu\"))\n",
    "# # model.add(keras.layers.Dropout(rate=0.2))\n",
    "# # model.add(keras.layers.Dense(20, activation=\"relu\"))\n",
    "# # model.add(keras.layers.Dropout(rate=0.2))\n",
    "# # model.add(keras.layers.Dense(1000, activation=\"relu\"))\n",
    "# # model.add(keras.layers.Dense(000, activation=\"relu\", kernel_regularizer=keras.regularizers.l2(0.01)))\n",
    "# # model.add(keras.layers.Dense(200, activation=\"relu\", kernel_regularizer=keras.regularizers.l2(0.01)))\n",
    "# # model.add(keras.layers.Dense(200, activation=\"relu\", kernel_regularizer=keras.regularizers.l2(0.01)))\n",
    "# # model.add(keras.layers.Dropout(rate=0.2))\n",
    "# model.add(keras.layers.Dense(1, activation=\"sigmoid\"))\n",
    "\n",
    "# model.compile(loss=\"binary_crossentropy\", optimizer=\"adam\", metrics=[\"accuracy\"])"
   ]
  },
  {
   "cell_type": "code",
   "execution_count": 38,
   "id": "7c667e20-15cd-4dd4-b521-7ea062b77b51",
   "metadata": {},
   "outputs": [],
   "source": [
    "# history = model.fit(X_train, np.array(Y_train), epochs=5)"
   ]
  },
  {
   "cell_type": "code",
   "execution_count": 39,
   "id": "f7fbbe54-38dc-43ff-a02c-27279053a50f",
   "metadata": {},
   "outputs": [],
   "source": [
    "# model.evaluate(X_test, np.array(Y_test))"
   ]
  },
  {
   "cell_type": "code",
   "execution_count": 40,
   "id": "1927972e-dfd6-4d6a-87f0-3a0af650a07e",
   "metadata": {},
   "outputs": [],
   "source": [
    "# print(cases.purpose_name.max())\n",
    "# print(cases.type_name.max())"
   ]
  },
  {
   "cell_type": "code",
   "execution_count": 41,
   "id": "6d4ff96a-fd5d-4b58-8008-3ed0fa7f8e13",
   "metadata": {},
   "outputs": [],
   "source": [
    "# model2 = keras.models.Sequential()\n",
    "# # model.add(keras.layers.Dense(10000, activation=\"relu\", input_shape=(X_train.shape[1],))) # , kernel_regularizer=keras.regularizers.l2(0.1)\n",
    "# # model.add(keras.layers.Dense(10000, activation=\"relu\", input_shape=(X_train.shape[1],)))\n",
    "# model2.add(keras.layers.Dense(100, activation=\"relu\", input_shape=(X_train.shape[1],)))\n",
    "# for i in range(8):\n",
    "#     model2.add(keras.layers.Dense(20, activation=\"relu\"))\n",
    "# model2.add(keras.layers.Dense(1, activation=\"sigmoid\"))\n",
    "\n",
    "# model2.compile(loss=\"binary_crossentropy\", optimizer=\"adam\", metrics=[\"accuracy\"])\n",
    "\n",
    "# history2 = model2.fit(X_train, np.array(Y_train), epochs=5)"
   ]
  },
  {
   "cell_type": "code",
   "execution_count": 42,
   "id": "38defcf2-82de-4aee-a876-b6ffdcf0201a",
   "metadata": {},
   "outputs": [],
   "source": [
    "# model2.evaluate(X_test, np.array(Y_test))"
   ]
  },
  {
   "cell_type": "code",
   "execution_count": 43,
   "id": "349fd1a3-5c08-4569-95d0-6924987b5945",
   "metadata": {},
   "outputs": [],
   "source": [
    "# model2.fit(X_train, np.array(Y_train), epochs=5)"
   ]
  },
  {
   "cell_type": "code",
   "execution_count": 52,
   "id": "4c84b56d-360a-424e-a57d-f2452232bfe5",
   "metadata": {},
   "outputs": [
    {
     "name": "stdout",
     "output_type": "stream",
     "text": [
      "Epoch 1/5\n",
      "20000/20000 [==============================] - 49s 2ms/step - loss: 0.3378 - accuracy: 0.8580\n",
      "Epoch 2/5\n",
      "20000/20000 [==============================] - 48s 2ms/step - loss: 0.3059 - accuracy: 0.8721\n",
      "Epoch 3/5\n",
      "20000/20000 [==============================] - 47s 2ms/step - loss: 0.2952 - accuracy: 0.8769\n",
      "Epoch 4/5\n",
      "20000/20000 [==============================] - 48s 2ms/step - loss: 0.2876 - accuracy: 0.8799\n",
      "Epoch 5/5\n",
      "20000/20000 [==============================] - 48s 2ms/step - loss: 0.2821 - accuracy: 0.8824\n"
     ]
    }
   ],
   "source": [
    "model3 = keras.models.Sequential()\n",
    "# model.add(keras.layers.Dense(10000, activation=\"relu\", input_shape=(X_train.shape[1],))) # , kernel_regularizer=keras.regularizers.l2(0.1)\n",
    "# model.add(keras.layers.Dense(10000, activation=\"relu\", input_shape=(X_train.shape[1],)))\n",
    "model3.add(keras.layers.Dense(1000, activation=\"relu\", input_shape=(X_train.shape[1],)))\n",
    "for i in range(2):\n",
    "    model3.add(keras.layers.Dense(1000, activation=\"relu\"))\n",
    "model3.add(keras.layers.Dense(1, activation=\"sigmoid\"))\n",
    "\n",
    "model3.compile(loss=\"binary_crossentropy\", optimizer=\"adam\", metrics=[\"accuracy\"])\n",
    "\n",
    "history3 = model3.fit(X_train, np.array(Y_train), epochs=5)"
   ]
  },
  {
   "cell_type": "code",
   "execution_count": 53,
   "id": "4dfc9f21-8bc5-4be9-baaa-3d43d653f215",
   "metadata": {},
   "outputs": [],
   "source": [
    "# history3 = model3.fit(X_train, np.array(Y_train), epochs=5)"
   ]
  },
  {
   "cell_type": "code",
   "execution_count": 54,
   "id": "7c0d374d-baa8-4530-ab6f-b2ea13083f4a",
   "metadata": {},
   "outputs": [
    {
     "name": "stdout",
     "output_type": "stream",
     "text": [
      "5000/5000 [==============================] - 7s 1ms/step - loss: 0.2838 - accuracy: 0.8828\n"
     ]
    },
    {
     "data": {
      "text/plain": [
       "[0.283814936876297, 0.8828374743461609]"
      ]
     },
     "execution_count": 54,
     "metadata": {},
     "output_type": "execute_result"
    }
   ],
   "source": [
    "model3.evaluate(X_test, np.array(Y_test))"
   ]
  },
  {
   "cell_type": "code",
   "execution_count": 55,
   "id": "fc55b512-f14b-4edd-99ab-08db743c9ee8",
   "metadata": {},
   "outputs": [
    {
     "name": "stdout",
     "output_type": "stream",
     "text": [
      "Epoch 1/25\n",
      "20000/20000 [==============================] - 48s 2ms/step - loss: 0.2778 - accuracy: 0.8848\n",
      "Epoch 2/25\n",
      "20000/20000 [==============================] - 48s 2ms/step - loss: 0.2736 - accuracy: 0.8866\n",
      "Epoch 3/25\n",
      "20000/20000 [==============================] - 48s 2ms/step - loss: 0.2725 - accuracy: 0.8877\n",
      "Epoch 4/25\n",
      "20000/20000 [==============================] - 48s 2ms/step - loss: 0.2678 - accuracy: 0.8891\n",
      "Epoch 5/25\n",
      "20000/20000 [==============================] - 47s 2ms/step - loss: 0.2670 - accuracy: 0.8901\n",
      "Epoch 6/25\n",
      "20000/20000 [==============================] - 48s 2ms/step - loss: 0.2651 - accuracy: 0.8908\n",
      "Epoch 7/25\n",
      "20000/20000 [==============================] - 48s 2ms/step - loss: 0.2697 - accuracy: 0.8916\n",
      "Epoch 8/25\n",
      "20000/20000 [==============================] - 47s 2ms/step - loss: 0.2597 - accuracy: 0.8924\n",
      "Epoch 9/25\n",
      "20000/20000 [==============================] - 48s 2ms/step - loss: 0.2587 - accuracy: 0.8928\n",
      "Epoch 10/25\n",
      "20000/20000 [==============================] - 47s 2ms/step - loss: 0.2606 - accuracy: 0.8940\n",
      "Epoch 11/25\n",
      "20000/20000 [==============================] - 48s 2ms/step - loss: 0.2820 - accuracy: 0.8941\n",
      "Epoch 12/25\n",
      "20000/20000 [==============================] - 47s 2ms/step - loss: 0.4211 - accuracy: 0.8944\n",
      "Epoch 13/25\n",
      "20000/20000 [==============================] - 48s 2ms/step - loss: 0.2741 - accuracy: 0.8953\n",
      "Epoch 14/25\n",
      "20000/20000 [==============================] - 47s 2ms/step - loss: 0.2835 - accuracy: 0.8955\n",
      "Epoch 15/25\n",
      "20000/20000 [==============================] - 48s 2ms/step - loss: 0.2521 - accuracy: 0.8961\n",
      "Epoch 16/25\n",
      "20000/20000 [==============================] - 48s 2ms/step - loss: 0.2549 - accuracy: 0.8967\n",
      "Epoch 17/25\n",
      "20000/20000 [==============================] - 47s 2ms/step - loss: 0.3237 - accuracy: 0.8968\n",
      "Epoch 18/25\n",
      "20000/20000 [==============================] - 47s 2ms/step - loss: 0.2499 - accuracy: 0.8970\n",
      "Epoch 19/25\n",
      "20000/20000 [==============================] - 47s 2ms/step - loss: 0.4107 - accuracy: 0.8975\n",
      "Epoch 20/25\n",
      "20000/20000 [==============================] - 47s 2ms/step - loss: 0.2481 - accuracy: 0.8979\n",
      "Epoch 21/25\n",
      "20000/20000 [==============================] - 47s 2ms/step - loss: 0.2482 - accuracy: 0.8983\n",
      "Epoch 22/25\n",
      "20000/20000 [==============================] - 48s 2ms/step - loss: 0.2604 - accuracy: 0.8989\n",
      "Epoch 23/25\n",
      "20000/20000 [==============================] - 47s 2ms/step - loss: 0.3374 - accuracy: 0.8990\n",
      "Epoch 24/25\n",
      "20000/20000 [==============================] - 46s 2ms/step - loss: 0.2602 - accuracy: 0.8996\n",
      "Epoch 25/25\n",
      "20000/20000 [==============================] - 47s 2ms/step - loss: 0.2651 - accuracy: 0.8994\n"
     ]
    }
   ],
   "source": [
    "history3 = model3.fit(X_train, np.array(Y_train), epochs=25)"
   ]
  },
  {
   "cell_type": "code",
   "execution_count": 56,
   "id": "f17144ca-f66e-40d7-b2a3-0492cf73e36e",
   "metadata": {},
   "outputs": [
    {
     "name": "stdout",
     "output_type": "stream",
     "text": [
      "5000/5000 [==============================] - 7s 1ms/step - loss: 0.2700 - accuracy: 0.8907\n"
     ]
    },
    {
     "data": {
      "text/plain": [
       "[0.26997125148773193, 0.8906999826431274]"
      ]
     },
     "execution_count": 56,
     "metadata": {},
     "output_type": "execute_result"
    }
   ],
   "source": [
    "model3.evaluate(X_test, np.array(Y_test))"
   ]
  },
  {
   "cell_type": "code",
   "execution_count": 58,
   "id": "b616f57f-8d34-4570-9a05-182cd2da4d39",
   "metadata": {},
   "outputs": [
    {
     "name": "stdout",
     "output_type": "stream",
     "text": [
      "Epoch 1/25\n",
      "20000/20000 [==============================] - 47s 2ms/step - loss: 0.2546 - accuracy: 0.9005\n",
      "Epoch 2/25\n",
      "20000/20000 [==============================] - 46s 2ms/step - loss: 0.2574 - accuracy: 0.9010\n",
      "Epoch 3/25\n",
      "20000/20000 [==============================] - 46s 2ms/step - loss: 0.2439 - accuracy: 0.9015\n",
      "Epoch 4/25\n",
      "20000/20000 [==============================] - 46s 2ms/step - loss: 0.2413 - accuracy: 0.9013\n",
      "Epoch 5/25\n",
      "20000/20000 [==============================] - 46s 2ms/step - loss: 0.2412 - accuracy: 0.9012\n",
      "Epoch 6/25\n",
      "20000/20000 [==============================] - 46s 2ms/step - loss: 0.2398 - accuracy: 0.9018\n",
      "Epoch 7/25\n",
      "20000/20000 [==============================] - 46s 2ms/step - loss: 0.2453 - accuracy: 0.9019\n",
      "Epoch 8/25\n",
      "20000/20000 [==============================] - 46s 2ms/step - loss: 0.2572 - accuracy: 0.9024\n",
      "Epoch 9/25\n",
      "20000/20000 [==============================] - 46s 2ms/step - loss: 0.2351 - accuracy: 0.9027\n",
      "Epoch 10/25\n",
      "20000/20000 [==============================] - 46s 2ms/step - loss: 0.2567 - accuracy: 0.9012\n",
      "Epoch 11/25\n",
      "20000/20000 [==============================] - 46s 2ms/step - loss: 0.2350 - accuracy: 0.9027\n",
      "Epoch 12/25\n",
      "20000/20000 [==============================] - 46s 2ms/step - loss: 0.2345 - accuracy: 0.9030\n",
      "Epoch 13/25\n",
      "20000/20000 [==============================] - 46s 2ms/step - loss: 0.2435 - accuracy: 0.9031\n",
      "Epoch 14/25\n",
      "20000/20000 [==============================] - 46s 2ms/step - loss: 0.2420 - accuracy: 0.9034\n",
      "Epoch 15/25\n",
      "20000/20000 [==============================] - 45s 2ms/step - loss: 0.2531 - accuracy: 0.9032\n",
      "Epoch 16/25\n",
      "20000/20000 [==============================] - 44s 2ms/step - loss: 0.2335 - accuracy: 0.9036\n",
      "Epoch 17/25\n",
      "20000/20000 [==============================] - 45s 2ms/step - loss: 0.2550 - accuracy: 0.9036\n",
      "Epoch 18/25\n",
      "20000/20000 [==============================] - 45s 2ms/step - loss: 0.2364 - accuracy: 0.9038\n",
      "Epoch 19/25\n",
      "20000/20000 [==============================] - 45s 2ms/step - loss: 0.2327 - accuracy: 0.9040\n",
      "Epoch 20/25\n",
      "20000/20000 [==============================] - 45s 2ms/step - loss: 0.2934 - accuracy: 0.9037\n",
      "Epoch 21/25\n",
      "20000/20000 [==============================] - 45s 2ms/step - loss: 0.2428 - accuracy: 0.9040\n",
      "Epoch 22/25\n",
      "20000/20000 [==============================] - 45s 2ms/step - loss: 0.2298 - accuracy: 0.9049\n",
      "Epoch 23/25\n",
      "20000/20000 [==============================] - 45s 2ms/step - loss: 0.2306 - accuracy: 0.9049\n",
      "Epoch 24/25\n",
      "20000/20000 [==============================] - 45s 2ms/step - loss: 0.2346 - accuracy: 0.9056\n",
      "Epoch 25/25\n",
      "20000/20000 [==============================] - 45s 2ms/step - loss: 0.2515 - accuracy: 0.9047\n"
     ]
    }
   ],
   "source": [
    "history3 = model3.fit(X_train, np.array(Y_train), epochs=40)"
   ]
  },
  {
   "cell_type": "code",
   "execution_count": 74,
   "id": "82f91573-1db7-4994-9b04-9bdded92c59e",
   "metadata": {},
   "outputs": [
    {
     "name": "stdout",
     "output_type": "stream",
     "text": [
      "5000/5000 [==============================] - 7s 1ms/step - loss: 0.3147 - accuracy: 0.8863\n"
     ]
    },
    {
     "data": {
      "text/plain": [
       "[0.3147026300430298, 0.886343777179718]"
      ]
     },
     "execution_count": 74,
     "metadata": {},
     "output_type": "execute_result"
    }
   ],
   "source": [
    "model3.evaluate(X_test, np.array(Y_test))"
   ]
  },
  {
   "cell_type": "code",
   "execution_count": 65,
   "id": "89f5c65a-810a-4942-be39-d86b0e07a3ff",
   "metadata": {},
   "outputs": [
    {
     "name": "stdout",
     "output_type": "stream",
     "text": [
      "5000/5000 [==============================] - 4s 841us/step\n",
      "[[2.2241357e-01]\n",
      " [2.0969109e-01]\n",
      " [9.8998767e-01]\n",
      " ...\n",
      " [7.0563681e-02]\n",
      " [1.0911323e-06]\n",
      " [4.1314462e-07]]\n"
     ]
    }
   ],
   "source": [
    "from sklearn.metrics import f1_score\n",
    "pred = model3.predict(X_test)\n",
    "print(pred)"
   ]
  },
  {
   "cell_type": "code",
   "execution_count": 73,
   "id": "e7410ba0-42f3-4baa-98f1-28f975ecb4b9",
   "metadata": {},
   "outputs": [
    {
     "name": "stdout",
     "output_type": "stream",
     "text": [
      "0.8875170873822439\n",
      "0.88634375\n"
     ]
    }
   ],
   "source": [
    "for i in range(len(pred)):\n",
    "    pred[i] = pred[i] >= 0.5\n",
    "\n",
    "print(f1_score(pred, Y_test))\n",
    "print(accuracy_score(pred, Y_test))"
   ]
  },
  {
   "cell_type": "code",
   "execution_count": null,
   "id": "369f9a4a-3032-4ae8-92bd-7566aba4a814",
   "metadata": {},
   "outputs": [],
   "source": []
  }
 ],
 "metadata": {
  "kernelspec": {
   "display_name": "tf-conda-kernel",
   "language": "python",
   "name": "tf-conda-kernel"
  },
  "language_info": {
   "codemirror_mode": {
    "name": "ipython",
    "version": 3
   },
   "file_extension": ".py",
   "mimetype": "text/x-python",
   "name": "python",
   "nbconvert_exporter": "python",
   "pygments_lexer": "ipython3",
   "version": "3.9.15"
  }
 },
 "nbformat": 4,
 "nbformat_minor": 5
}
